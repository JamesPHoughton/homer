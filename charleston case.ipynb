{
 "cells": [
  {
   "cell_type": "code",
   "execution_count": 1,
   "metadata": {
    "collapsed": false
   },
   "outputs": [
    {
     "name": "stdout",
     "output_type": "stream",
     "text": [
      "Populating the interactive namespace from numpy and matplotlib\n"
     ]
    }
   ],
   "source": [
    "%pylab inline\n",
    "import homer"
   ]
  },
  {
   "cell_type": "code",
   "execution_count": 1,
   "metadata": {
    "collapsed": false
   },
   "outputs": [
    {
     "data": {
      "text/plain": [
       "True"
      ]
     },
     "execution_count": 1,
     "metadata": {},
     "output_type": "execute_result"
    }
   ],
   "source": [
    "'hi' in ['hi', 'bob']"
   ]
  },
  {
   "cell_type": "code",
   "execution_count": null,
   "metadata": {
    "collapsed": false
   },
   "outputs": [],
   "source": [
    "weighted_edge_list = homer.parser.build_weighted_edgelist_db(\n",
    "        tw_file_globstring='/Users/houghton/Desktop/tw/posts_sample_201506*.gz',\n",
    "        output_globstring='/Users/houghton/Desktop/tw/charleston/weighted_edgelists_*.hdf',\n",
    "        save_threshold=10\n",
    "    )"
   ]
  },
  {
   "cell_type": "code",
   "execution_count": 8,
   "metadata": {
    "collapsed": false
   },
   "outputs": [
    {
     "data": {
      "text/html": [
       "<div>\n",
       "<table border=\"1\" class=\"dataframe\">\n",
       "  <thead>\n",
       "    <tr style=\"text-align: right;\">\n",
       "      <th></th>\n",
       "      <th>Count</th>\n",
       "      <th>Date</th>\n",
       "      <th>W1</th>\n",
       "      <th>W2</th>\n",
       "    </tr>\n",
       "  </thead>\n",
       "  <tbody>\n",
       "    <tr>\n",
       "      <th>56</th>\n",
       "      <td>5</td>\n",
       "      <td>20150615</td>\n",
       "      <td>love</td>\n",
       "      <td>unravel</td>\n",
       "    </tr>\n",
       "    <tr>\n",
       "      <th>71</th>\n",
       "      <td>6</td>\n",
       "      <td>20150615</td>\n",
       "      <td>emmoğlu</td>\n",
       "      <td>gonul_insani_</td>\n",
       "    </tr>\n",
       "    <tr>\n",
       "      <th>95</th>\n",
       "      <td>4</td>\n",
       "      <td>20150615</td>\n",
       "      <td>ย</td>\n",
       "      <td>เท</td>\n",
       "    </tr>\n",
       "    <tr>\n",
       "      <th>119</th>\n",
       "      <td>8</td>\n",
       "      <td>20150615</td>\n",
       "      <td>5sostumblrx</td>\n",
       "      <td>michael</td>\n",
       "    </tr>\n",
       "    <tr>\n",
       "      <th>146</th>\n",
       "      <td>5</td>\n",
       "      <td>20150615</td>\n",
       "      <td>2015</td>\n",
       "      <td>fav</td>\n",
       "    </tr>\n",
       "  </tbody>\n",
       "</table>\n",
       "</div>"
      ],
      "text/plain": [
       "     Count      Date           W1             W2\n",
       "56       5  20150615         love        unravel\n",
       "71       6  20150615      emmoğlu  gonul_insani_\n",
       "95       4  20150615            ย             เท\n",
       "119      8  20150615  5sostumblrx        michael\n",
       "146      5  20150615         2015            fav"
      ]
     },
     "execution_count": 8,
     "metadata": {},
     "output_type": "execute_result"
    }
   ],
   "source": [
    "weighted_edge_list[weighted_edge_list['Count']>3].head()"
   ]
  },
  {
   "cell_type": "code",
   "execution_count": 7,
   "metadata": {
    "collapsed": false
   },
   "outputs": [
    {
     "data": {
      "text/plain": [
       "1       1528904\n",
       "2        171850\n",
       "3         39935\n",
       "4         20663\n",
       "5          8876\n",
       "6          6511\n",
       "7          3572\n",
       "8          2928\n",
       "9          2350\n",
       "10         1601\n",
       "12         1072\n",
       "11         1015\n",
       "13          719\n",
       "14          539\n",
       "16          480\n",
       "15          463\n",
       "18          379\n",
       "19          297\n",
       "27          265\n",
       "17          260\n",
       "22          221\n",
       "23          220\n",
       "21          213\n",
       "20          205\n",
       "36          196\n",
       "24          163\n",
       "38          146\n",
       "32          135\n",
       "25          129\n",
       "28          126\n",
       "         ...   \n",
       "134           1\n",
       "128           1\n",
       "127           1\n",
       "125           1\n",
       "121           1\n",
       "118           1\n",
       "116           1\n",
       "112           1\n",
       "469           1\n",
       "104           1\n",
       "148           1\n",
       "153           1\n",
       "202           1\n",
       "155           1\n",
       "200           1\n",
       "199           1\n",
       "197           1\n",
       "195           1\n",
       "98            1\n",
       "193           1\n",
       "188           1\n",
       "185           1\n",
       "184           1\n",
       "182           1\n",
       "173           1\n",
       "170           1\n",
       "169           1\n",
       "160           1\n",
       "157           1\n",
       "1785          1\n",
       "Name: Count, dtype: int64"
      ]
     },
     "execution_count": 7,
     "metadata": {},
     "output_type": "execute_result"
    }
   ],
   "source": [
    "weighted_edge_list['Count'].value_counts().compute()"
   ]
  },
  {
   "cell_type": "code",
   "execution_count": null,
   "metadata": {
    "collapsed": false
   },
   "outputs": [],
   "source": [
    "collection = homer.new_collection(\n",
    "    tw_file_globstring='/Users/houghton/Desktop/tw/posts_sample_20150618_*', \n",
    "    weighted_edge_list_globstring='/Users/houghton/Desktop/tw/charleston/weighted_edgelists_20150618_*.hdf',\n",
    "    clusters_globstring='/Users/houghton/Desktop/tw/charleston/clusters_20150618_*.hdf',\n",
    "    min_threshold=25)"
   ]
  },
  {
   "cell_type": "code",
   "execution_count": 7,
   "metadata": {
    "collapsed": false
   },
   "outputs": [
    {
     "data": {
      "text/plain": [
       "3.0     1750\n",
       "4.0     1212\n",
       "5.0      765\n",
       "6.0      557\n",
       "7.0      483\n",
       "8.0      387\n",
       "9.0      291\n",
       "10.0     239\n",
       "11.0     206\n",
       "12.0     157\n",
       "13.0     111\n",
       "14.0      86\n",
       "15.0      47\n",
       "16.0      39\n",
       "17.0      37\n",
       "21.0      36\n",
       "18.0      36\n",
       "19.0      36\n",
       "20.0      36\n",
       "22.0      36\n",
       "Name: k, dtype: int64"
      ]
     },
     "execution_count": 7,
     "metadata": {},
     "output_type": "execute_result"
    }
   ],
   "source": [
    "collection.clusters['k'].value_counts().compute()"
   ]
  },
  {
   "cell_type": "code",
   "execution_count": 4,
   "metadata": {
    "collapsed": false
   },
   "outputs": [
    {
     "ename": "ValueError",
     "evalue": "Input must be a list longer than 0",
     "output_type": "error",
     "traceback": [
      "\u001b[0;31m---------------------------------------------------------------------------\u001b[0m",
      "\u001b[0;31mValueError\u001b[0m                                Traceback (most recent call last)",
      "\u001b[0;32m<ipython-input-4-2a6c0fd76965>\u001b[0m in \u001b[0;36m<module>\u001b[0;34m()\u001b[0m\n\u001b[0;32m----> 1\u001b[0;31m \u001b[0mcollection\u001b[0m\u001b[0;34m.\u001b[0m\u001b[0mcompute_transition_clusters\u001b[0m\u001b[0;34m(\u001b[0m\u001b[0;34m'working/transition_clusters_20150618_*.hdf'\u001b[0m\u001b[0;34m,\u001b[0m \u001b[0mmin_threshold\u001b[0m\u001b[0;34m=\u001b[0m\u001b[0;36m25\u001b[0m\u001b[0;34m)\u001b[0m\u001b[0;34m\u001b[0m\u001b[0m\n\u001b[0m",
      "\u001b[0;32m/Users/houghton/Google Drive/Academic Projects/HOMER/homer/homer/homer.py\u001b[0m in \u001b[0;36mcompute_transition_clusters\u001b[0;34m(self, transition_clusters_globstring, min_threshold)\u001b[0m\n\u001b[1;32m    113\u001b[0m             \u001b[0mweighted_edge_list\u001b[0m\u001b[0;34m=\u001b[0m\u001b[0mself\u001b[0m\u001b[0;34m.\u001b[0m\u001b[0mweighted_edge_list\u001b[0m\u001b[0;34m,\u001b[0m\u001b[0;34m\u001b[0m\u001b[0m\n\u001b[1;32m    114\u001b[0m             \u001b[0moutput_globstring\u001b[0m\u001b[0;34m=\u001b[0m\u001b[0mtransition_clusters_globstring\u001b[0m\u001b[0;34m,\u001b[0m\u001b[0;34m\u001b[0m\u001b[0m\n\u001b[0;32m--> 115\u001b[0;31m             \u001b[0mmin_threshold\u001b[0m\u001b[0;34m=\u001b[0m\u001b[0mmin_threshold\u001b[0m\u001b[0;34m\u001b[0m\u001b[0m\n\u001b[0m\u001b[1;32m    116\u001b[0m         )\n\u001b[1;32m    117\u001b[0m \u001b[0;34m\u001b[0m\u001b[0m\n",
      "\u001b[0;32m/Users/houghton/Google Drive/Academic Projects/HOMER/homer/homer/clusterer.py\u001b[0m in \u001b[0;36mbuild_transition_cluster_db\u001b[0;34m(weighted_edge_list, output_globstring, min_threshold)\u001b[0m\n\u001b[1;32m    249\u001b[0m             \u001b[0mcollector\u001b[0m\u001b[0;34m.\u001b[0m\u001b[0mappend\u001b[0m\u001b[0;34m(\u001b[0m\u001b[0mdf_2\u001b[0m\u001b[0;34m)\u001b[0m\u001b[0;34m\u001b[0m\u001b[0m\n\u001b[1;32m    250\u001b[0m \u001b[0;34m\u001b[0m\u001b[0m\n\u001b[0;32m--> 251\u001b[0;31m     \u001b[0mclusters\u001b[0m \u001b[0;34m=\u001b[0m \u001b[0mdd\u001b[0m\u001b[0;34m.\u001b[0m\u001b[0mconcat\u001b[0m\u001b[0;34m(\u001b[0m\u001b[0mcollector\u001b[0m\u001b[0;34m,\u001b[0m \u001b[0minterleave_partitions\u001b[0m\u001b[0;34m=\u001b[0m\u001b[0;32mTrue\u001b[0m\u001b[0;34m)\u001b[0m\u001b[0;34m\u001b[0m\u001b[0m\n\u001b[0m\u001b[1;32m    252\u001b[0m     \u001b[0mclusters\u001b[0m \u001b[0;34m=\u001b[0m \u001b[0mclusters\u001b[0m\u001b[0;34m.\u001b[0m\u001b[0mrepartition\u001b[0m\u001b[0;34m(\u001b[0m\u001b[0mnpartitions\u001b[0m\u001b[0;34m=\u001b[0m\u001b[0;36m1\u001b[0m\u001b[0;34m)\u001b[0m  \u001b[0;31m# Todo: This partitioning is problematic\u001b[0m\u001b[0;34m\u001b[0m\u001b[0m\n\u001b[1;32m    253\u001b[0m     \u001b[0mclusters\u001b[0m \u001b[0;34m=\u001b[0m \u001b[0mclusters\u001b[0m\u001b[0;34m.\u001b[0m\u001b[0mreset_index\u001b[0m\u001b[0;34m(\u001b[0m\u001b[0mdrop\u001b[0m\u001b[0;34m=\u001b[0m\u001b[0;32mTrue\u001b[0m\u001b[0;34m)\u001b[0m  \u001b[0;31m# Todo: need to set an index which is unlikely to\u001b[0m\u001b[0;34m\u001b[0m\u001b[0m\n",
      "\u001b[0;32m/Users/houghton/anaconda/envs/py3k/lib/python3.5/site-packages/dask/dataframe/multi.py\u001b[0m in \u001b[0;36mconcat\u001b[0;34m(dfs, axis, join, interleave_partitions)\u001b[0m\n\u001b[1;32m    548\u001b[0m         \u001b[0mdfs\u001b[0m \u001b[0;34m=\u001b[0m \u001b[0;34m[\u001b[0m\u001b[0mdfs\u001b[0m\u001b[0;34m]\u001b[0m\u001b[0;34m\u001b[0m\u001b[0m\n\u001b[1;32m    549\u001b[0m     \u001b[0;32mif\u001b[0m \u001b[0mlen\u001b[0m\u001b[0;34m(\u001b[0m\u001b[0mdfs\u001b[0m\u001b[0;34m)\u001b[0m \u001b[0;34m==\u001b[0m \u001b[0;36m0\u001b[0m\u001b[0;34m:\u001b[0m\u001b[0;34m\u001b[0m\u001b[0m\n\u001b[0;32m--> 550\u001b[0;31m         \u001b[0;32mraise\u001b[0m \u001b[0mValueError\u001b[0m\u001b[0;34m(\u001b[0m\u001b[0;34m'Input must be a list longer than 0'\u001b[0m\u001b[0;34m)\u001b[0m\u001b[0;34m\u001b[0m\u001b[0m\n\u001b[0m\u001b[1;32m    551\u001b[0m     \u001b[0;32mif\u001b[0m \u001b[0mlen\u001b[0m\u001b[0;34m(\u001b[0m\u001b[0mdfs\u001b[0m\u001b[0;34m)\u001b[0m \u001b[0;34m==\u001b[0m \u001b[0;36m1\u001b[0m\u001b[0;34m:\u001b[0m\u001b[0;34m\u001b[0m\u001b[0m\n\u001b[1;32m    552\u001b[0m         \u001b[0;32mreturn\u001b[0m \u001b[0mdfs\u001b[0m\u001b[0;34m[\u001b[0m\u001b[0;36m0\u001b[0m\u001b[0;34m]\u001b[0m\u001b[0;34m\u001b[0m\u001b[0m\n",
      "\u001b[0;31mValueError\u001b[0m: Input must be a list longer than 0"
     ]
    }
   ],
   "source": [
    "collection.compute_transition_clusters('working/transition_clusters_20150618_*.hdf', min_threshold=25)"
   ]
  },
  {
   "cell_type": "code",
   "execution_count": null,
   "metadata": {
    "collapsed": true
   },
   "outputs": [],
   "source": [
    "collection.compute_transition_list('working/transitions_list_20150618.pickle')"
   ]
  },
  {
   "cell_type": "code",
   "execution_count": null,
   "metadata": {
    "collapsed": true
   },
   "outputs": [],
   "source": [
    "collection.compute_relations('working/MC_gen_relations_*.hdf')"
   ]
  }
 ],
 "metadata": {
  "anaconda-cloud": {},
  "kernelspec": {
   "display_name": "Python [py3k]",
   "language": "python",
   "name": "Python [py3k]"
  },
  "language_info": {
   "codemirror_mode": {
    "name": "ipython",
    "version": 3
   },
   "file_extension": ".py",
   "mimetype": "text/x-python",
   "name": "python",
   "nbconvert_exporter": "python",
   "pygments_lexer": "ipython3",
   "version": "3.5.2"
  }
 },
 "nbformat": 4,
 "nbformat_minor": 0
}
