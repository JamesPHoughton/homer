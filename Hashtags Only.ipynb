{
 "cells": [
  {
   "cell_type": "code",
   "execution_count": 1,
   "metadata": {
    "collapsed": false
   },
   "outputs": [],
   "source": [
    "import homer\n",
    "import glob\n",
    "import pandas as pd\n"
   ]
  },
  {
   "cell_type": "code",
   "execution_count": 2,
   "metadata": {
    "collapsed": true
   },
   "outputs": [],
   "source": [
    "tw_files='/Users/houghton/Desktop/tw/posts_sample_201506*.gz'    "
   ]
  },
  {
   "cell_type": "code",
   "execution_count": 5,
   "metadata": {
    "collapsed": false
   },
   "outputs": [
    {
     "name": "stdout",
     "output_type": "stream",
     "text": [
      "[########################################] | 100% Completed | 34min 10.9s\n",
      "[########################################] | 100% Completed |  2min  7.2s\n"
     ]
    }
   ],
   "source": [
    "wel_files = homer.build_weighted_edgelist_db(\n",
    "    tw_file_globstring='/Users/houghton/Desktop/tw/posts*', \n",
    "    intermediate_files_globstring='/Users/houghton/Desktop/tw/hashtags_only/parsing/hashtags_int_*.csv',\n",
    "    output_files_globstring='/Users/houghton/Desktop/tw/hashtags_only/hashtag_wel_*.csv',\n",
    "    languages=['en'],\n",
    "    dates=[20150616, 20150617, 20150618, 20150619, 20150620, 20150621, 20150622, 20150623, 20160624],\n",
    "    threshold=2,\n",
    "    hashtags_only=True\n",
    "    )"
   ]
  },
  {
   "cell_type": "code",
   "execution_count": 3,
   "metadata": {
    "collapsed": false
   },
   "outputs": [
    {
     "data": {
      "text/plain": [
       "['/Users/houghton/Desktop/tw/hashtags_only/hashtag_wel_20150616.csv',\n",
       " '/Users/houghton/Desktop/tw/hashtags_only/hashtag_wel_20150617.csv',\n",
       " '/Users/houghton/Desktop/tw/hashtags_only/hashtag_wel_20150618.csv',\n",
       " '/Users/houghton/Desktop/tw/hashtags_only/hashtag_wel_20150619.csv',\n",
       " '/Users/houghton/Desktop/tw/hashtags_only/hashtag_wel_20150620.csv',\n",
       " '/Users/houghton/Desktop/tw/hashtags_only/hashtag_wel_20150621.csv',\n",
       " '/Users/houghton/Desktop/tw/hashtags_only/hashtag_wel_20150622.csv',\n",
       " '/Users/houghton/Desktop/tw/hashtags_only/hashtag_wel_20150623.csv',\n",
       " '/Users/houghton/Desktop/tw/hashtags_only/hashtag_wel_20160624.csv']"
      ]
     },
     "execution_count": 3,
     "metadata": {},
     "output_type": "execute_result"
    }
   ],
   "source": [
    "wel_files = glob.glob('/Users/houghton/Desktop/tw/hashtags_only/hashtag_wel*.csv')\n",
    "wel_files"
   ]
  },
  {
   "cell_type": "code",
   "execution_count": 4,
   "metadata": {
    "collapsed": true
   },
   "outputs": [],
   "source": [
    "assert len(wel_files) == len([20150616, 20150617, 20150618, 20150619, 20150620, 20150621, 20150622, 20150623, 20160624])"
   ]
  },
  {
   "cell_type": "code",
   "execution_count": 5,
   "metadata": {
    "collapsed": false
   },
   "outputs": [],
   "source": [
    "cluster_files = homer.build_cluster_db(\n",
    "    weighted_edge_list_files=sorted(wel_files)[:-1],\n",
    "    intermediate_files_directory='/Users/houghton/Desktop/tw/hashtags_only/cos_working',\n",
    "    output_files_directory='/Users/houghton/Desktop/tw/hashtags_only/cos_output',\n",
    "    dates=[20150616, 20150617, 20150618, 20150619, 20150620, 20150621, 20150622, 20150623],\n",
    "    thresholds=[2]\n",
    ")"
   ]
  },
  {
   "cell_type": "code",
   "execution_count": 11,
   "metadata": {
    "collapsed": false
   },
   "outputs": [
    {
     "data": {
      "text/html": [
       "<div>\n",
       "<table border=\"1\" class=\"dataframe\">\n",
       "  <thead>\n",
       "    <tr style=\"text-align: right;\">\n",
       "      <th></th>\n",
       "      <th>date</th>\n",
       "      <th>file</th>\n",
       "      <th>k</th>\n",
       "      <th>threshold</th>\n",
       "    </tr>\n",
       "  </thead>\n",
       "  <tbody>\n",
       "    <tr>\n",
       "      <th>0</th>\n",
       "      <td>20150616</td>\n",
       "      <td>/Users/houghton/Desktop/tw/hashtags_only/cos_o...</td>\n",
       "      <td>10</td>\n",
       "      <td>2</td>\n",
       "    </tr>\n",
       "    <tr>\n",
       "      <th>1</th>\n",
       "      <td>20150616</td>\n",
       "      <td>/Users/houghton/Desktop/tw/hashtags_only/cos_o...</td>\n",
       "      <td>11</td>\n",
       "      <td>2</td>\n",
       "    </tr>\n",
       "    <tr>\n",
       "      <th>2</th>\n",
       "      <td>20150616</td>\n",
       "      <td>/Users/houghton/Desktop/tw/hashtags_only/cos_o...</td>\n",
       "      <td>12</td>\n",
       "      <td>2</td>\n",
       "    </tr>\n",
       "    <tr>\n",
       "      <th>3</th>\n",
       "      <td>20150616</td>\n",
       "      <td>/Users/houghton/Desktop/tw/hashtags_only/cos_o...</td>\n",
       "      <td>13</td>\n",
       "      <td>2</td>\n",
       "    </tr>\n",
       "    <tr>\n",
       "      <th>4</th>\n",
       "      <td>20150616</td>\n",
       "      <td>/Users/houghton/Desktop/tw/hashtags_only/cos_o...</td>\n",
       "      <td>14</td>\n",
       "      <td>2</td>\n",
       "    </tr>\n",
       "  </tbody>\n",
       "</table>\n",
       "</div>"
      ],
      "text/plain": [
       "       date                                               file   k  threshold\n",
       "0  20150616  /Users/houghton/Desktop/tw/hashtags_only/cos_o...  10          2\n",
       "1  20150616  /Users/houghton/Desktop/tw/hashtags_only/cos_o...  11          2\n",
       "2  20150616  /Users/houghton/Desktop/tw/hashtags_only/cos_o...  12          2\n",
       "3  20150616  /Users/houghton/Desktop/tw/hashtags_only/cos_o...  13          2\n",
       "4  20150616  /Users/houghton/Desktop/tw/hashtags_only/cos_o...  14          2"
      ]
     },
     "execution_count": 11,
     "metadata": {},
     "output_type": "execute_result"
    }
   ],
   "source": [
    "cluster_files_df = pd.DataFrame(cluster_files)\n",
    "cluster_files_df['k'] = cluster_files_df['k'].apply(int)\n",
    "cluster_files_df.head()"
   ]
  },
  {
   "cell_type": "code",
   "execution_count": 2,
   "metadata": {
    "collapsed": false
   },
   "outputs": [
    {
     "data": {
      "text/html": [
       "<div>\n",
       "<table border=\"1\" class=\"dataframe\">\n",
       "  <thead>\n",
       "    <tr style=\"text-align: right;\">\n",
       "      <th></th>\n",
       "      <th>date</th>\n",
       "      <th>file</th>\n",
       "      <th>k</th>\n",
       "      <th>threshold</th>\n",
       "    </tr>\n",
       "  </thead>\n",
       "  <tbody>\n",
       "    <tr>\n",
       "      <th>0</th>\n",
       "      <td>20150616</td>\n",
       "      <td>/Users/houghton/Desktop/tw/hashtags_only/cos_o...</td>\n",
       "      <td>10</td>\n",
       "      <td>2</td>\n",
       "    </tr>\n",
       "    <tr>\n",
       "      <th>1</th>\n",
       "      <td>20150616</td>\n",
       "      <td>/Users/houghton/Desktop/tw/hashtags_only/cos_o...</td>\n",
       "      <td>11</td>\n",
       "      <td>2</td>\n",
       "    </tr>\n",
       "    <tr>\n",
       "      <th>2</th>\n",
       "      <td>20150616</td>\n",
       "      <td>/Users/houghton/Desktop/tw/hashtags_only/cos_o...</td>\n",
       "      <td>12</td>\n",
       "      <td>2</td>\n",
       "    </tr>\n",
       "    <tr>\n",
       "      <th>3</th>\n",
       "      <td>20150616</td>\n",
       "      <td>/Users/houghton/Desktop/tw/hashtags_only/cos_o...</td>\n",
       "      <td>13</td>\n",
       "      <td>2</td>\n",
       "    </tr>\n",
       "    <tr>\n",
       "      <th>4</th>\n",
       "      <td>20150616</td>\n",
       "      <td>/Users/houghton/Desktop/tw/hashtags_only/cos_o...</td>\n",
       "      <td>14</td>\n",
       "      <td>2</td>\n",
       "    </tr>\n",
       "  </tbody>\n",
       "</table>\n",
       "</div>"
      ],
      "text/plain": [
       "       date                                               file   k threshold\n",
       "0  20150616  /Users/houghton/Desktop/tw/hashtags_only/cos_o...  10         2\n",
       "1  20150616  /Users/houghton/Desktop/tw/hashtags_only/cos_o...  11         2\n",
       "2  20150616  /Users/houghton/Desktop/tw/hashtags_only/cos_o...  12         2\n",
       "3  20150616  /Users/houghton/Desktop/tw/hashtags_only/cos_o...  13         2\n",
       "4  20150616  /Users/houghton/Desktop/tw/hashtags_only/cos_o...  14         2"
      ]
     },
     "execution_count": 2,
     "metadata": {},
     "output_type": "execute_result"
    }
   ],
   "source": [
    "output_files_directory='/Users/houghton/Desktop/tw/hashtags_only/cos_output'\n",
    "collector = []\n",
    "for date_dir in glob.glob(output_files_directory+'/*'):\n",
    "    date = date_dir.split('/')[-1]\n",
    "    for th_dir in glob.glob(date_dir+'/*'):\n",
    "        th = th_dir.split('/')[-1]\n",
    "        for cluster_file in glob.glob(th_dir+'/*.csv'):\n",
    "            k = int(cluster_file.split('/')[-1].split('_')[0])\n",
    "            collector.append({'date':date, 'threshold':th, 'k':k, 'file':cluster_file})\n",
    "            \n",
    "cluster_files_df = pd.DataFrame(collector)\n",
    "cluster_files_df.head()"
   ]
  },
  {
   "cell_type": "code",
   "execution_count": null,
   "metadata": {
    "collapsed": true
   },
   "outputs": [],
   "source": [
    "import pandas as pd\n",
    "import dask\n",
    "\n",
    "\n",
    "def find_k_children(parent_file, child_file):\n",
    "    parents = pd.read_csv(parent_file, header=None, names=['ID', 'set'], index_col=['ID'])\n",
    "    parents['set'] = parents['set'].apply(lambda x: set(x.split(' ')))\n",
    "    child_candidates = pd.read_csv(child_file, header=None, names=['ID', 'set'], index_col=['ID'])\n",
    "    child_candidates['set'] = child_candidates['set'].apply(lambda x: set(x.split(' ')))\n",
    "\n",
    "    collector = []\n",
    "    for parent_id, parent in parents.iterrows():\n",
    "        children = [child_id for child_id, child in child_candidates.iterrows() if\n",
    "                    child['set'].issubset(parent['set'])]\n",
    "        if len(children) > 0:\n",
    "            collector.append({'ID': parent_id,\n",
    "                              'children': children})\n",
    "\n",
    "    #return pd.DataFrame(collector)\n",
    "    return collector\n",
    "\n",
    "\n",
    "lazy_find_k_children = dask.delayed(find_k_children)\n",
    "\n",
    "\n",
    "def build_day(cluster_files_df, output_file, root):\n",
    "    current_group = cluster_files_df.sort(columns='k').reset_index(drop=True)\n",
    "    dask_collector = []\n",
    "    for ia, ib in zip(current_group.index[:-1], current_group.index[1:]):\n",
    "        dask_collector.append(lazy_find_k_children(cluster_files_df['file'].loc[ia],\n",
    "                                                   cluster_files_df['file'].loc[ib]))\n",
    "\n",
    "    for element in dask.bag.from_delayed(dask_collector):\n",
    "        root\n",
    "    \n",
    "    \n",
    "    template = pd.DataFrame([{'ID': 'nice str', 'children': 'difficult str'}],\n",
    "                            columns=['ID', 'children'])\n",
    "\n",
    "    dask.bag.from_delayed(dask_collector).to_file(output_file)\n",
    "\n",
    "\n",
    "def build_children_db(cluster_files_df, output_globstring, root):\n",
    "    \"\"\"\n",
    "    Identifies children (ie, completely contained clusters)\n",
    "\n",
    "\n",
    "\n",
    "\n",
    "    Parameters\n",
    "    ----------\n",
    "    clusters\n",
    "\n",
    "    Returns\n",
    "    -------\n",
    "\n",
    "    \"\"\"\n",
    "\n",
    "    children_filenames_collector = []\n",
    "\n",
    "    for (date, threshold), group in cluster_files_df.groupby(by=['date', 'threshold']):\n",
    "        children_filename = output_globstring.replace('*', '_%s_%s' % (date, threshold))\n",
    "        build_day(group, children_filename, root)\n",
    "        children_filenames_collector.append(children_filename)\n",
    "\n",
    "    return children_filenames_collector\n",
    "\n"
   ]
  },
  {
   "cell_type": "code",
   "execution_count": null,
   "metadata": {
    "collapsed": true
   },
   "outputs": [],
   "source": [
    "root = homer.tree.Cluster('__root__')\n",
    "\n",
    "\n",
    "    for ID, row in clusters.iterrows():\n",
    "        new = Cluster(contents=str(ID),\n",
    "                      k=row['k'],\n",
    "                      w=row['threshold'],\n",
    "                      date=row['Date'])\n",
    "\n",
    "        root.insert(new)\n",
    "        if row['k'] == 3:\n",
    "            root.k_children.append(new)\n",
    "    \n",
    "    "
   ]
  },
  {
   "cell_type": "code",
   "execution_count": null,
   "metadata": {
    "collapsed": true
   },
   "outputs": [],
   "source": [
    "\n",
    "def compute_tree(clusters, relations, transitions, tree_filename):\n",
    "    # put clusters in a tree\n",
    "    root = Cluster('__root__')\n",
    "    for ID, row in clusters.iterrows():\n",
    "        new = Cluster(contents=str(ID),\n",
    "                      k=row['k'],\n",
    "                      w=row['threshold'],\n",
    "                      date=row['Date'])\n",
    "\n",
    "        root.insert(new)\n",
    "        if row['k'] == 3:\n",
    "            root.k_children.append(new)\n",
    "\n",
    "    # add clusters as children\n",
    "    for (_, _, ID), row in relations.iterrows():\n",
    "        node = root.find('_'+str(ID))\n",
    "        for child in row['children']:\n",
    "            node.k_children.append(root.find(str(child)))\n",
    "\n",
    "    # add leaves (words)\n",
    "    for node in walk_k_ancestry(root, 'bottom up'):\n",
    "        if node.contents != '__root__':\n",
    "            present_in_children = [m.contents for m in node.get_k_members()]\n",
    "            words = clusters['Set'].loc[int(node.contents[1:])].compute().values[0].split(\n",
    "                ' ')\n",
    "            for leaf_word in list(set(words) - set(present_in_children)):\n",
    "                leaf = root.find(leaf_word)\n",
    "                if leaf is None:\n",
    "                    leaf = Cluster(leaf_word, is_leaf=True)\n",
    "                    root.insert(leaf)\n",
    "                node.k_children.append(leaf)\n",
    "\n",
    "    # add connections to subsequent day clusters\n",
    "    for i, (c1, c2, similarity) in transitions.iterrows():\n",
    "        n1 = root.find('_'+str(int(c1)))\n",
    "        n2 = root.find('_'+str(int(c2)))\n",
    "        n1.tomorrow.append(n2)\n",
    "        n1.p_tomorrow.append(similarity)\n",
    "\n",
    "    with gzip.open(tree_filename, 'wb') as f:\n",
    "        for node in walk_tree(root):\n",
    "            f.write((node.to_json() + '\\n').encode())\n",
    "\n",
    "    return root"
   ]
  },
  {
   "cell_type": "code",
   "execution_count": 3,
   "metadata": {
    "collapsed": false
   },
   "outputs": [
    {
     "name": "stderr",
     "output_type": "stream",
     "text": [
      "/Users/houghton/Google Drive/Academic Projects/HOMER/homer/homer/relate.py:27: FutureWarning: sort(columns=....) is deprecated, use sort_values(by=.....)\n",
      "  current_group = cluster_files_df.sort(columns='k').reset_index(drop=True)\n"
     ]
    },
    {
     "ename": "AttributeError",
     "evalue": "'Bag' object has no attribute 'to_file'",
     "output_type": "error",
     "traceback": [
      "\u001b[0;31m---------------------------------------------------------------------------\u001b[0m",
      "\u001b[0;31mAttributeError\u001b[0m                            Traceback (most recent call last)",
      "\u001b[0;32m<ipython-input-3-7cece8727abe>\u001b[0m in \u001b[0;36m<module>\u001b[0;34m()\u001b[0m\n\u001b[0;32m----> 1\u001b[0;31m \u001b[0mhomer\u001b[0m\u001b[0;34m.\u001b[0m\u001b[0mrelate\u001b[0m\u001b[0;34m.\u001b[0m\u001b[0mbuild_children_db\u001b[0m\u001b[0;34m(\u001b[0m\u001b[0mcluster_files_df\u001b[0m\u001b[0;34m,\u001b[0m \u001b[0;34m'/Users/houghton/Desktop/tw/hashtags_only/hashtag_children*.json'\u001b[0m\u001b[0;34m)\u001b[0m\u001b[0;34m\u001b[0m\u001b[0m\n\u001b[0m",
      "\u001b[0;32m/Users/houghton/Google Drive/Academic Projects/HOMER/homer/homer/relate.py\u001b[0m in \u001b[0;36mbuild_children_db\u001b[0;34m(cluster_files_df, output_globstring)\u001b[0m\n\u001b[1;32m     57\u001b[0m     \u001b[0;32mfor\u001b[0m \u001b[0;34m(\u001b[0m\u001b[0mdate\u001b[0m\u001b[0;34m,\u001b[0m \u001b[0mthreshold\u001b[0m\u001b[0;34m)\u001b[0m\u001b[0;34m,\u001b[0m \u001b[0mgroup\u001b[0m \u001b[0;32min\u001b[0m \u001b[0mcluster_files_df\u001b[0m\u001b[0;34m.\u001b[0m\u001b[0mgroupby\u001b[0m\u001b[0;34m(\u001b[0m\u001b[0mby\u001b[0m\u001b[0;34m=\u001b[0m\u001b[0;34m[\u001b[0m\u001b[0;34m'date'\u001b[0m\u001b[0;34m,\u001b[0m \u001b[0;34m'threshold'\u001b[0m\u001b[0;34m]\u001b[0m\u001b[0;34m)\u001b[0m\u001b[0;34m:\u001b[0m\u001b[0;34m\u001b[0m\u001b[0m\n\u001b[1;32m     58\u001b[0m         \u001b[0mchildren_filename\u001b[0m \u001b[0;34m=\u001b[0m \u001b[0moutput_globstring\u001b[0m\u001b[0;34m.\u001b[0m\u001b[0mreplace\u001b[0m\u001b[0;34m(\u001b[0m\u001b[0;34m'*'\u001b[0m\u001b[0;34m,\u001b[0m \u001b[0;34m'_%s_%s'\u001b[0m \u001b[0;34m%\u001b[0m \u001b[0;34m(\u001b[0m\u001b[0mdate\u001b[0m\u001b[0;34m,\u001b[0m \u001b[0mthreshold\u001b[0m\u001b[0;34m)\u001b[0m\u001b[0;34m)\u001b[0m\u001b[0;34m\u001b[0m\u001b[0m\n\u001b[0;32m---> 59\u001b[0;31m         \u001b[0mbuild_day\u001b[0m\u001b[0;34m(\u001b[0m\u001b[0mgroup\u001b[0m\u001b[0;34m,\u001b[0m \u001b[0mchildren_filename\u001b[0m\u001b[0;34m)\u001b[0m\u001b[0;34m\u001b[0m\u001b[0m\n\u001b[0m\u001b[1;32m     60\u001b[0m         \u001b[0mchildren_filenames_collector\u001b[0m\u001b[0;34m.\u001b[0m\u001b[0mappend\u001b[0m\u001b[0;34m(\u001b[0m\u001b[0mchildren_filename\u001b[0m\u001b[0;34m)\u001b[0m\u001b[0;34m\u001b[0m\u001b[0m\n\u001b[1;32m     61\u001b[0m \u001b[0;34m\u001b[0m\u001b[0m\n",
      "\u001b[0;32m/Users/houghton/Google Drive/Academic Projects/HOMER/homer/homer/relate.py\u001b[0m in \u001b[0;36mbuild_day\u001b[0;34m(cluster_files_df, output_file)\u001b[0m\n\u001b[1;32m     34\u001b[0m                             columns=['ID', 'children'])\n\u001b[1;32m     35\u001b[0m \u001b[0;34m\u001b[0m\u001b[0m\n\u001b[0;32m---> 36\u001b[0;31m     \u001b[0mdask\u001b[0m\u001b[0;34m.\u001b[0m\u001b[0mbag\u001b[0m\u001b[0;34m.\u001b[0m\u001b[0mfrom_delayed\u001b[0m\u001b[0;34m(\u001b[0m\u001b[0mdask_collector\u001b[0m\u001b[0;34m)\u001b[0m\u001b[0;34m.\u001b[0m\u001b[0mto_file\u001b[0m\u001b[0;34m(\u001b[0m\u001b[0moutput_file\u001b[0m\u001b[0;34m)\u001b[0m\u001b[0;34m\u001b[0m\u001b[0m\n\u001b[0m\u001b[1;32m     37\u001b[0m \u001b[0;34m\u001b[0m\u001b[0m\n\u001b[1;32m     38\u001b[0m \u001b[0;34m\u001b[0m\u001b[0m\n",
      "\u001b[0;31mAttributeError\u001b[0m: 'Bag' object has no attribute 'to_file'"
     ]
    }
   ],
   "source": [
    "homer.relate.build_children_db(cluster_files_df, '/Users/houghton/Desktop/tw/hashtags_only/hashtag_children*.json')"
   ]
  },
  {
   "cell_type": "code",
   "execution_count": null,
   "metadata": {
    "collapsed": false
   },
   "outputs": [
    {
     "name": "stdout",
     "output_type": "stream",
     "text": [
      "> \u001b[0;32m/Users/houghton/anaconda/envs/py3k/lib/python3.5/site-packages/pandas/core/indexing.py\u001b[0m(1405)\u001b[0;36merror\u001b[0;34m()\u001b[0m\n",
      "\u001b[0;32m   1403 \u001b[0;31m                                    \"key\")\n",
      "\u001b[0m\u001b[0;32m   1404 \u001b[0;31m                raise KeyError(\"the label [%s] is not in the [%s]\" %\n",
      "\u001b[0m\u001b[0;32m-> 1405 \u001b[0;31m                               (key, self.obj._get_axis_name(axis)))\n",
      "\u001b[0m\u001b[0;32m   1406 \u001b[0;31m\u001b[0;34m\u001b[0m\u001b[0m\n",
      "\u001b[0m\u001b[0;32m   1407 \u001b[0;31m            \u001b[0;32mtry\u001b[0m\u001b[0;34m:\u001b[0m\u001b[0;34m\u001b[0m\u001b[0m\n",
      "\u001b[0m\n"
     ]
    }
   ],
   "source": [
    "%debug\n"
   ]
  },
  {
   "cell_type": "code",
   "execution_count": null,
   "metadata": {
    "collapsed": true
   },
   "outputs": [],
   "source": []
  }
 ],
 "metadata": {
  "kernelspec": {
   "display_name": "Python [py3k]",
   "language": "python",
   "name": "Python [py3k]"
  },
  "language_info": {
   "codemirror_mode": {
    "name": "ipython",
    "version": 3
   },
   "file_extension": ".py",
   "mimetype": "text/x-python",
   "name": "python",
   "nbconvert_exporter": "python",
   "pygments_lexer": "ipython3",
   "version": "3.5.2"
  }
 },
 "nbformat": 4,
 "nbformat_minor": 0
}
