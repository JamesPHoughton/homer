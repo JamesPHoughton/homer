{
 "cells": [
  {
   "cell_type": "code",
   "execution_count": 1,
   "metadata": {
    "collapsed": true
   },
   "outputs": [],
   "source": [
    "import dask.bag as db\n",
    "from dask.diagnostics import ProgressBar\n",
    "from dask import delayed\n",
    "import dask\n",
    "\n",
    "import collections\n",
    "import ujson\n",
    "from itertools import combinations\n",
    "import re\n",
    "import dateutil.parser\n",
    "from nltk.tokenize import RegexpTokenizer\n",
    "\n",
    "import os\n",
    "import pickle\n",
    "import pandas as pd\n",
    "import time\n",
    "import glob"
   ]
  },
  {
   "cell_type": "code",
   "execution_count": 12,
   "metadata": {
    "collapsed": true
   },
   "outputs": [],
   "source": [
    "def fold_pairs(counter, json_string, languages, hashtags_only):\n",
    "    parsed_json = ujson.loads(json_string)\n",
    "    if 'lang' in parsed_json and 'text' in parsed_json and parsed_json['lang'] in languages:\n",
    "        date = int(dateutil.parser.parse(parsed_json['created_at']).strftime(\"%Y%m%d\"))\n",
    "        if not hashtags_only:\n",
    "            counter[date] += 1\n",
    "\n",
    "        else:\n",
    "            if ('entities' in parsed_json and\n",
    "                        'hashtags' in parsed_json['entities'] and\n",
    "                        len(parsed_json['entities']['hashtags']) >= 2):\n",
    "                counter[date] += 1\n",
    "    return counter"
   ]
  },
  {
   "cell_type": "code",
   "execution_count": 13,
   "metadata": {
    "collapsed": true
   },
   "outputs": [],
   "source": [
    "def merge_folds(a, b):\n",
    "    \"\"\"\n",
    "    For each input file, writes an output file for each date\n",
    "    within that input file, separating dates from one another so\n",
    "    they can be processed separately later on.\n",
    "    \"\"\"\n",
    "    return a+b"
   ]
  },
  {
   "cell_type": "code",
   "execution_count": 14,
   "metadata": {
    "collapsed": true
   },
   "outputs": [],
   "source": [
    "tw_file_globstring='/Users/houghton/Desktop/tw/posts_sample_20150615*.gz'   "
   ]
  },
  {
   "cell_type": "code",
   "execution_count": 18,
   "metadata": {
    "collapsed": false
   },
   "outputs": [
    {
     "name": "stdout",
     "output_type": "stream",
     "text": [
      "[########################################] | 100% Completed |  9min  3.0s\n"
     ]
    }
   ],
   "source": [
    "languages = ['en']\n",
    "hashtags_only = False\n",
    "lines = db.read_text(tw_file_globstring, compression='gzip', collection=True)\n",
    "\n",
    "initial_counter = collections.Counter()\n",
    "counters = lines.fold(binop=lambda count, json: fold_pairs(count, json,\n",
    "                                                           languages, hashtags_only),\n",
    "                      combine=lambda a, b: merge_folds(a, b),\n",
    "                      initial=initial_counter)\n",
    "\n",
    "with ProgressBar():\n",
    "    counts = counters.compute()\n"
   ]
  },
  {
   "cell_type": "code",
   "execution_count": 17,
   "metadata": {
    "collapsed": false
   },
   "outputs": [
    {
     "data": {
      "text/plain": [
       "Counter({20150615: 17858, 20150616: 104931, 20150617: 105311, 20150618: 58260})"
      ]
     },
     "execution_count": 17,
     "metadata": {},
     "output_type": "execute_result"
    }
   ],
   "source": [
    "outfiles"
   ]
  },
  {
   "cell_type": "code",
   "execution_count": 19,
   "metadata": {
    "collapsed": false
   },
   "outputs": [
    {
     "data": {
      "text/plain": [
       "Counter({20150615: 234185,\n",
       "         20150616: 1324115,\n",
       "         20150617: 1351711,\n",
       "         20150618: 751605})"
      ]
     },
     "execution_count": 19,
     "metadata": {},
     "output_type": "execute_result"
    }
   ],
   "source": [
    "counts"
   ]
  },
  {
   "cell_type": "code",
   "execution_count": 20,
   "metadata": {
    "collapsed": true
   },
   "outputs": [],
   "source": [
    "wel = pd.read_csv('/Users/houghton/Desktop/tw/hashtags_only/hashtag_wel_20150616.csv')"
   ]
  },
  {
   "cell_type": "code",
   "execution_count": 24,
   "metadata": {
    "collapsed": false
   },
   "outputs": [
    {
     "data": {
      "text/plain": [
       "(43644, 3)"
      ]
     },
     "execution_count": 24,
     "metadata": {},
     "output_type": "execute_result"
    }
   ],
   "source": [
    "wel.shape"
   ]
  },
  {
   "cell_type": "code",
   "execution_count": 25,
   "metadata": {
    "collapsed": false
   },
   "outputs": [
    {
     "data": {
      "text/html": [
       "<div>\n",
       "<table border=\"1\" class=\"dataframe\">\n",
       "  <thead>\n",
       "    <tr style=\"text-align: right;\">\n",
       "      <th></th>\n",
       "      <th>W1</th>\n",
       "      <th>W2</th>\n",
       "      <th>Count</th>\n",
       "    </tr>\n",
       "  </thead>\n",
       "  <tbody>\n",
       "    <tr>\n",
       "      <th>0</th>\n",
       "      <td>007fam</td>\n",
       "      <td>jamesbond</td>\n",
       "      <td>2</td>\n",
       "    </tr>\n",
       "    <tr>\n",
       "      <th>1</th>\n",
       "      <td>007fam</td>\n",
       "      <td>spectre</td>\n",
       "      <td>2</td>\n",
       "    </tr>\n",
       "    <tr>\n",
       "      <th>2</th>\n",
       "      <td>00s</td>\n",
       "      <td>90s</td>\n",
       "      <td>2</td>\n",
       "    </tr>\n",
       "    <tr>\n",
       "      <th>3</th>\n",
       "      <td>00s</td>\n",
       "      <td>90sradio</td>\n",
       "      <td>2</td>\n",
       "    </tr>\n",
       "    <tr>\n",
       "      <th>4</th>\n",
       "      <td>00s</td>\n",
       "      <td>dance</td>\n",
       "      <td>2</td>\n",
       "    </tr>\n",
       "  </tbody>\n",
       "</table>\n",
       "</div>"
      ],
      "text/plain": [
       "       W1         W2  Count\n",
       "0  007fam  jamesbond      2\n",
       "1  007fam    spectre      2\n",
       "2     00s        90s      2\n",
       "3     00s   90sradio      2\n",
       "4     00s      dance      2"
      ]
     },
     "execution_count": 25,
     "metadata": {},
     "output_type": "execute_result"
    }
   ],
   "source": [
    "wel.head()"
   ]
  },
  {
   "cell_type": "code",
   "execution_count": 27,
   "metadata": {
    "collapsed": false
   },
   "outputs": [
    {
     "data": {
      "text/plain": [
       "6.004788745302905"
      ]
     },
     "execution_count": 27,
     "metadata": {},
     "output_type": "execute_result"
    }
   ],
   "source": [
    "wel['Count'].mean()"
   ]
  },
  {
   "cell_type": "code",
   "execution_count": 28,
   "metadata": {
    "collapsed": false
   },
   "outputs": [
    {
     "name": "stdout",
     "output_type": "stream",
     "text": [
      "/Users/houghton/Desktop/tw/hashtags_only/cos_output/20150616/2/10_named_communities.csv\n",
      "/Users/houghton/Desktop/tw/hashtags_only/cos_output/20150616/2/11_named_communities.csv\n",
      "/Users/houghton/Desktop/tw/hashtags_only/cos_output/20150616/2/12_named_communities.csv\n",
      "/Users/houghton/Desktop/tw/hashtags_only/cos_output/20150616/2/13_named_communities.csv\n",
      "/Users/houghton/Desktop/tw/hashtags_only/cos_output/20150616/2/14_named_communities.csv\n",
      "/Users/houghton/Desktop/tw/hashtags_only/cos_output/20150616/2/15_named_communities.csv\n",
      "/Users/houghton/Desktop/tw/hashtags_only/cos_output/20150616/2/16_named_communities.csv\n",
      "/Users/houghton/Desktop/tw/hashtags_only/cos_output/20150616/2/17_named_communities.csv\n",
      "/Users/houghton/Desktop/tw/hashtags_only/cos_output/20150616/2/3_named_communities.csv\n",
      "/Users/houghton/Desktop/tw/hashtags_only/cos_output/20150616/2/4_named_communities.csv\n",
      "/Users/houghton/Desktop/tw/hashtags_only/cos_output/20150616/2/5_named_communities.csv\n",
      "/Users/houghton/Desktop/tw/hashtags_only/cos_output/20150616/2/6_named_communities.csv\n",
      "/Users/houghton/Desktop/tw/hashtags_only/cos_output/20150616/2/7_named_communities.csv\n",
      "/Users/houghton/Desktop/tw/hashtags_only/cos_output/20150616/2/8_named_communities.csv\n",
      "/Users/houghton/Desktop/tw/hashtags_only/cos_output/20150616/2/9_named_communities.csv\n"
     ]
    }
   ],
   "source": [
    "words = 0\n",
    "n_clusters = 0\n",
    "\n",
    "for file in glob.glob('/Users/houghton/Desktop/tw/hashtags_only/cos_output/20150616/2/*_named_communities.csv'):\n",
    "    print(file)\n",
    "\n",
    "    clusters = pd.read_csv(file, header=None, names=['name', 'list']).set_index('name')\n",
    "    a = clusters['list'].apply(lambda x: len(x.split(' ')))\n",
    "    words += a.sum()\n",
    "    n_clusters += len(a)"
   ]
  },
  {
   "cell_type": "code",
   "execution_count": 29,
   "metadata": {
    "collapsed": false
   },
   "outputs": [
    {
     "data": {
      "text/plain": [
       "9.894296577946768"
      ]
     },
     "execution_count": 29,
     "metadata": {},
     "output_type": "execute_result"
    }
   ],
   "source": [
    "words/n_clusters\n"
   ]
  },
  {
   "cell_type": "code",
   "execution_count": null,
   "metadata": {
    "collapsed": true
   },
   "outputs": [],
   "source": []
  }
 ],
 "metadata": {
  "anaconda-cloud": {},
  "kernelspec": {
   "display_name": "Python [py3k]",
   "language": "python",
   "name": "Python [py3k]"
  },
  "language_info": {
   "codemirror_mode": {
    "name": "ipython",
    "version": 3
   },
   "file_extension": ".py",
   "mimetype": "text/x-python",
   "name": "python",
   "nbconvert_exporter": "python",
   "pygments_lexer": "ipython3",
   "version": "3.5.2"
  }
 },
 "nbformat": 4,
 "nbformat_minor": 0
}
