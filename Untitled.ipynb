{
 "cells": [
  {
   "cell_type": "code",
   "execution_count": 3,
   "metadata": {
    "collapsed": false
   },
   "outputs": [],
   "source": [
    "import homer\n",
    "import pandas as pd\n",
    "import dask.dataframe as dd\n",
    "import glob\n",
    "import dask\n"
   ]
  },
  {
   "cell_type": "code",
   "execution_count": 4,
   "metadata": {
    "collapsed": true
   },
   "outputs": [],
   "source": [
    "files = glob.glob('/Users/houghton/Desktop/tw/reduced/wel*')"
   ]
  },
  {
   "cell_type": "code",
   "execution_count": 5,
   "metadata": {
    "collapsed": false
   },
   "outputs": [
    {
     "data": {
      "text/plain": [
       "['/Users/houghton/Desktop/tw/reduced/wel_total_20150617.csv',\n",
       " '/Users/houghton/Desktop/tw/reduced/wel_total_20150618.csv',\n",
       " '/Users/houghton/Desktop/tw/reduced/wel_total_20150619.csv',\n",
       " '/Users/houghton/Desktop/tw/reduced/wel_total_20150620.csv',\n",
       " '/Users/houghton/Desktop/tw/reduced/wel_total_20150621.csv',\n",
       " '/Users/houghton/Desktop/tw/reduced/wel_total_20150622.csv',\n",
       " '/Users/houghton/Desktop/tw/reduced/wel_total_20150623.csv',\n",
       " '/Users/houghton/Desktop/tw/reduced/wel_total_20150624.csv',\n",
       " '/Users/houghton/Desktop/tw/reduced/wel_total_20150625.csv']"
      ]
     },
     "execution_count": 5,
     "metadata": {},
     "output_type": "execute_result"
    }
   ],
   "source": [
    "files = files[2:]\n",
    "files"
   ]
  },
  {
   "cell_type": "code",
   "execution_count": 6,
   "metadata": {
    "collapsed": false
   },
   "outputs": [],
   "source": [
    "collector = []\n",
    "for filename in files:\n",
    "    date = filename.split('.')[0].split('_')[-1]\n",
    "    df = pd.read_csv(filename)\n",
    "    df['Date'] = int(date)\n",
    "    collector.append(df)"
   ]
  },
  {
   "cell_type": "code",
   "execution_count": 7,
   "metadata": {
    "collapsed": false
   },
   "outputs": [],
   "source": [
    "ddf = dd.from_pandas(pd.concat(collector), npartitions=len(files))"
   ]
  },
  {
   "cell_type": "code",
   "execution_count": null,
   "metadata": {
    "collapsed": false
   },
   "outputs": [],
   "source": [
    "clusters = homer.clusterer.build_cluster_db(ddf, '/Users/houghton/Desktop/tw/reduced/clusters_*.csv', thresholds=[50])"
   ]
  },
  {
   "cell_type": "code",
   "execution_count": null,
   "metadata": {
    "collapsed": true
   },
   "outputs": [],
   "source": []
  }
 ],
 "metadata": {
  "anaconda-cloud": {},
  "kernelspec": {
   "display_name": "Python [py3k]",
   "language": "python",
   "name": "Python [py3k]"
  }
 },
 "nbformat": 4,
 "nbformat_minor": 0
}
