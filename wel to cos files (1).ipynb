{
 "cells": [
  {
   "cell_type": "code",
   "execution_count": 1,
   "metadata": {
    "collapsed": false
   },
   "outputs": [],
   "source": [
    "import glob\n",
    "import homer.clusterer\n",
    "import os\n",
    "import pandas as pd"
   ]
  },
  {
   "cell_type": "code",
   "execution_count": 8,
   "metadata": {
    "collapsed": false
   },
   "outputs": [
    {
     "data": {
      "text/plain": [
       "['working/wel_total_20150616.csv',\n",
       " 'working/wel_total_20150617.csv',\n",
       " 'working/wel_total_20150618.csv',\n",
       " 'working/wel_total_20150619.csv',\n",
       " 'working/wel_total_20150621.csv',\n",
       " 'working/wel_total_20150622.csv',\n",
       " 'working/wel_total_20150623.csv',\n",
       " 'working/wel_total_20150624.csv',\n",
       " 'working/wel_total_20150625.csv']"
      ]
     },
     "execution_count": 8,
     "metadata": {},
     "output_type": "execute_result"
    }
   ],
   "source": [
    "files = sorted(glob.glob('working/wel*'))\n",
    "base_working_directory = '/home/ubuntu/homer/working/cos_raw'\n",
    "base_cluster_directory = '/home/ubuntu/homer/working/cos_clusters/'\n",
    "threshold = 10\n",
    "files = files[1:]\n",
    "files"
   ]
  },
  {
   "cell_type": "code",
   "execution_count": 7,
   "metadata": {
    "collapsed": false
   },
   "outputs": [
    {
     "name": "stdout",
     "output_type": "stream",
     "text": [
      "mkdir: cannot create directory ‘/home/ubuntu/homer/working/cos_raw/20150615’: File exists\n",
      "mkdir: cannot create directory ‘/home/ubuntu/homer/working/cos_raw/20150616’: File exists\n",
      "mkdir: cannot create directory ‘/home/ubuntu/homer/working/cos_raw/20150617’: File exists\n",
      "mkdir: cannot create directory ‘/home/ubuntu/homer/working/cos_raw/20150618’: File exists\n",
      "mkdir: cannot create directory ‘/home/ubuntu/homer/working/cos_raw/20150619’: File exists\n",
      "mkdir: cannot create directory ‘/home/ubuntu/homer/working/cos_raw/20150621’: File exists\n",
      "mkdir: cannot create directory ‘/home/ubuntu/homer/working/cos_raw/20150622’: File exists\n",
      "mkdir: cannot create directory ‘/home/ubuntu/homer/working/cos_raw/20150623’: File exists\n",
      "mkdir: cannot create directory ‘/home/ubuntu/homer/working/cos_raw/20150624’: File exists\n",
      "mkdir: cannot create directory ‘/home/ubuntu/homer/working/cos_raw/20150625’: File exists\n"
     ]
    }
   ],
   "source": [
    "for filename in files:\n",
    "    date = filename.split('.')[0].split('_')[-1]\n",
    "    working_directory = base_working_directory + '/' + date\n",
    "    !sudo mkdir {working_directory}\n",
    "    !sudo chmod 777 {working_directory}\n"
   ]
  },
  {
   "cell_type": "code",
   "execution_count": 3,
   "metadata": {
    "collapsed": true
   },
   "outputs": [],
   "source": [
    "for filename in files:\n",
    "    date = filename.split('.')[0].split('_')[-1]\n",
    "    working_directory = base_cluster_directory + '/' + date\n",
    "    !sudo mkdir {working_directory}\n",
    "    !sudo chmod 777 {working_directory}"
   ]
  },
  {
   "cell_type": "code",
   "execution_count": 9,
   "metadata": {
    "collapsed": false
   },
   "outputs": [
    {
     "name": "stdout",
     "output_type": "stream",
     "text": [
      "20150616\n"
     ]
    },
    {
     "ename": "IndexError",
     "evalue": "list index out of range",
     "output_type": "error",
     "traceback": [
      "\u001b[1;31m---------------------------------------------------------------------------\u001b[0m",
      "\u001b[1;31mIndexError\u001b[0m                                Traceback (most recent call last)",
      "\u001b[1;32m<ipython-input-9-23bf632b5a12>\u001b[0m in \u001b[0;36m<module>\u001b[1;34m()\u001b[0m\n\u001b[0;32m      6\u001b[0m     \u001b[0mweighted_edge_list\u001b[0m \u001b[1;33m=\u001b[0m \u001b[0mpd\u001b[0m\u001b[1;33m.\u001b[0m\u001b[0mread_csv\u001b[0m\u001b[1;33m(\u001b[0m\u001b[0mfilename\u001b[0m\u001b[1;33m)\u001b[0m\u001b[1;33m\u001b[0m\u001b[0m\n\u001b[0;32m      7\u001b[0m     \u001b[0munweighted\u001b[0m \u001b[1;33m=\u001b[0m \u001b[0mweighted_edge_list\u001b[0m\u001b[1;33m[\u001b[0m\u001b[0mweighted_edge_list\u001b[0m\u001b[1;33m[\u001b[0m\u001b[1;34m'Count'\u001b[0m\u001b[1;33m]\u001b[0m \u001b[1;33m>=\u001b[0m \u001b[0mthreshold\u001b[0m\u001b[1;33m]\u001b[0m\u001b[1;33m\u001b[0m\u001b[0m\n\u001b[1;32m----> 8\u001b[1;33m     \u001b[0mhomer\u001b[0m\u001b[1;33m.\u001b[0m\u001b[0mclusterer\u001b[0m\u001b[1;33m.\u001b[0m\u001b[0mfind_clusters\u001b[0m\u001b[1;33m(\u001b[0m\u001b[0munweighted\u001b[0m\u001b[1;33m[\u001b[0m\u001b[1;33m[\u001b[0m\u001b[1;34m'W1'\u001b[0m\u001b[1;33m,\u001b[0m \u001b[1;34m'W2'\u001b[0m\u001b[1;33m]\u001b[0m\u001b[1;33m]\u001b[0m\u001b[1;33m,\u001b[0m \u001b[0mcos_raw_dir\u001b[0m\u001b[1;33m,\u001b[0m \u001b[0mclusters_dir\u001b[0m\u001b[1;33m,\u001b[0m \u001b[0mdate\u001b[0m\u001b[1;33m)\u001b[0m\u001b[1;33m\u001b[0m\u001b[0m\n\u001b[0m",
      "\u001b[1;32m/home/ubuntu/homer/homer/clusterer.py\u001b[0m in \u001b[0;36mfind_clusters\u001b[1;34m(unweighted_edge_list, cos_raw_dir, cluster_dir, date)\u001b[0m\n\u001b[0;32m    102\u001b[0m     \"\"\"\n\u001b[0;32m    103\u001b[0m     \u001b[0mrun_cluster_algorithm\u001b[0m\u001b[1;33m(\u001b[0m\u001b[0munweighted_edge_list\u001b[0m\u001b[1;33m,\u001b[0m \u001b[0mcos_raw_dir\u001b[0m\u001b[1;33m)\u001b[0m\u001b[1;33m\u001b[0m\u001b[0m\n\u001b[1;32m--> 104\u001b[1;33m     \u001b[0mprocess_cluster_algorithm_output\u001b[0m\u001b[1;33m(\u001b[0m\u001b[0mcos_raw_dir\u001b[0m\u001b[1;33m,\u001b[0m \u001b[0mcluster_dir\u001b[0m\u001b[1;33m,\u001b[0m \u001b[0mdate\u001b[0m\u001b[1;33m)\u001b[0m\u001b[1;33m\u001b[0m\u001b[0m\n\u001b[0m\u001b[0;32m    105\u001b[0m \u001b[1;33m\u001b[0m\u001b[0m\n\u001b[0;32m    106\u001b[0m \u001b[1;33m\u001b[0m\u001b[0m\n",
      "\u001b[1;32m/home/ubuntu/homer/homer/clusterer.py\u001b[0m in \u001b[0;36mprocess_cluster_algorithm_output\u001b[1;34m(cos_raw_dir, cluster_dir, date)\u001b[0m\n\u001b[0;32m     71\u001b[0m     \u001b[0mmap_filename\u001b[0m \u001b[1;33m=\u001b[0m \u001b[0mglob\u001b[0m\u001b[1;33m.\u001b[0m\u001b[0mglob\u001b[0m\u001b[1;33m(\u001b[0m\u001b[0mcos_raw_dir\u001b[0m \u001b[1;33m+\u001b[0m \u001b[1;34m'/*.map'\u001b[0m\u001b[1;33m)\u001b[0m\u001b[1;33m\u001b[0m\u001b[0m\n\u001b[0;32m     72\u001b[0m \u001b[1;33m\u001b[0m\u001b[0m\n\u001b[1;32m---> 73\u001b[1;33m     mapping = pd.read_csv(map_filename[0], sep=' ', header=None,\n\u001b[0m\u001b[0;32m     74\u001b[0m                           \u001b[0mnames\u001b[0m\u001b[1;33m=\u001b[0m\u001b[1;33m[\u001b[0m\u001b[1;34m'word'\u001b[0m\u001b[1;33m,\u001b[0m \u001b[1;34m'number'\u001b[0m\u001b[1;33m]\u001b[0m\u001b[1;33m,\u001b[0m\u001b[1;33m\u001b[0m\u001b[0m\n\u001b[0;32m     75\u001b[0m                           index_col='number')\n",
      "\u001b[1;31mIndexError\u001b[0m: list index out of range"
     ]
    }
   ],
   "source": [
    "for filename in files:\n",
    "    date = filename.split('.')[0].split('_')[-1]\n",
    "    print(date)\n",
    "    cos_raw_dir = base_working_directory + '/' + date\n",
    "    clusters_dir = base_cluster_directory + '/' + date\n",
    "    weighted_edge_list = pd.read_csv(filename)\n",
    "    unweighted = weighted_edge_list[weighted_edge_list['Count'] >= threshold]\n",
    "    homer.clusterer.find_clusters(unweighted[['W1', 'W2']], cos_raw_dir, clusters_dir, date)"
   ]
  },
  {
   "cell_type": "code",
   "execution_count": null,
   "metadata": {
    "collapsed": true
   },
   "outputs": [],
   "source": []
  }
 ],
 "metadata": {
  "anaconda-cloud": {},
  "kernelspec": {
   "display_name": "Python [Root]",
   "language": "python",
   "name": "Python [Root]"
  },
  "language_info": {
   "codemirror_mode": {
    "name": "ipython",
    "version": 3
   },
   "file_extension": ".py",
   "mimetype": "text/x-python",
   "name": "python",
   "nbconvert_exporter": "python",
   "pygments_lexer": "ipython3",
   "version": "3.5.2"
  }
 },
 "nbformat": 4,
 "nbformat_minor": 0
}
