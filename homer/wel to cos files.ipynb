{
 "cells": [
  {
   "cell_type": "code",
   "execution_count": 1,
   "metadata": {
    "collapsed": false
   },
   "outputs": [],
   "source": [
    "import glob\n",
    "import homer.clusterer\n",
    "import os\n",
    "import pandas as pd"
   ]
  },
  {
   "cell_type": "code",
   "execution_count": 2,
   "metadata": {
    "collapsed": false
   },
   "outputs": [
    {
     "data": {
      "text/plain": [
       "['/data/w_el/wel_total_20150616.csv',\n",
       " '/data/w_el/wel_total_20150620.csv',\n",
       " '/data/w_el/wel_total_20150621.csv',\n",
       " '/data/w_el/wel_total_20150619.csv',\n",
       " '/data/w_el/wel_total_20150625.csv',\n",
       " '/data/w_el/wel_total_20150623.csv',\n",
       " '/data/w_el/wel_total_20150624.csv',\n",
       " '/data/w_el/wel_total_20150615.csv',\n",
       " '/data/w_el/wel_total_20150622.csv',\n",
       " '/data/w_el/wel_total_20150617.csv',\n",
       " '/data/w_el/wel_total_20150618.csv']"
      ]
     },
     "execution_count": 2,
     "metadata": {},
     "output_type": "execute_result"
    }
   ],
   "source": [
    "files = glob.glob('/data/w_el/wel*')\n",
    "base_working_directory = '/data/cos_working'\n",
    "threshold = 50\n",
    "files"
   ]
  },
  {
   "cell_type": "code",
   "execution_count": 5,
   "metadata": {
    "collapsed": true
   },
   "outputs": [],
   "source": [
    "for filename in files:\n",
    "    date = filename.split('.')[0].split('_')[-1]\n",
    "    working_directory = base_working_directory + '/' + date\n",
    "    !sudo mkdir {working_directory}\n",
    "    !sudo chmod 777 {working_directory}\n"
   ]
  },
  {
   "cell_type": "code",
   "execution_count": null,
   "metadata": {
    "collapsed": false
   },
   "outputs": [],
   "source": [
    "for filename in files:\n",
    "    date = filename.split('.')[0].split('_')[-1]\n",
    "    working_directory = base_working_directory + '/' + date\n",
    "    weighted_edge_list = pd.read_csv(filename)\n",
    "    unweighted = weighted_edge_list[weighted_edge_list['Count'] >= threshold]\n",
    "    homer.clusterer.find_clusters(unweighted[['W1', 'W2']], working_directory)"
   ]
  },
  {
   "cell_type": "code",
   "execution_count": null,
   "metadata": {
    "collapsed": true
   },
   "outputs": [],
   "source": []
  }
 ],
 "metadata": {
  "kernelspec": {
   "display_name": "Python [Root]",
   "language": "python",
   "name": "Python [Root]"
  },
  "language_info": {
   "codemirror_mode": {
    "name": "ipython",
    "version": 3
   },
   "file_extension": ".py",
   "mimetype": "text/x-python",
   "name": "python",
   "nbconvert_exporter": "python",
   "pygments_lexer": "ipython3",
   "version": "3.5.2"
  }
 },
 "nbformat": 4,
 "nbformat_minor": 0
}
